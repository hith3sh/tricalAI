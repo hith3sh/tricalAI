{
  "cells": [
    {
      "cell_type": "code",
      "execution_count": 5,
      "metadata": {
        "id": "y2IuTS8RH2ro"
      },
      "outputs": [],
      "source": [
        "import tensorflow as tf\n",
        "from keras import datasets, layers, models\n",
        "import matplotlib.pyplot as plt\n",
        "import numpy as np\n",
        "from sklearn.preprocessing import MinMaxScaler"
      ]
    },
    {
      "cell_type": "code",
      "execution_count": 6,
      "metadata": {
        "id": "-QFzJIFIJCk9"
      },
      "outputs": [],
      "source": [
        "from keras.datasets import cifar10\n",
        "#Load the CIFAR -10 dataset\n",
        "(train_images, train_labels),(test_images, test_labels) = cifar10.load_data()\n"
      ]
    },
    {
      "cell_type": "code",
      "execution_count": 8,
      "metadata": {
        "colab": {
          "base_uri": "https://localhost:8080/"
        },
        "id": "uzizb-ZkJwGb",
        "outputId": "a92da09e-31d7-4292-b4fb-0e56efa893cf"
      },
      "outputs": [
        {
          "output_type": "execute_result",
          "data": {
            "text/plain": [
              "(50000, 32, 32, 3)"
            ]
          },
          "metadata": {},
          "execution_count": 8
        }
      ],
      "source": [
        "train_images.shape"
      ]
    },
    {
      "cell_type": "code",
      "execution_count": 9,
      "metadata": {
        "id": "81wdUxxZKsgt"
      },
      "outputs": [],
      "source": [
        "#creating a CNN\n",
        "cnn = models.Sequential([\n",
        "    layers.Conv2D(filters=32, kernel_size=(3, 3), activation='relu', input_shape=(32, 32, 3)),\n",
        "    layers.MaxPooling2D((2, 2)),\n",
        "\n",
        "    layers.Conv2D(filters=32, kernel_size=(3, 3), activation='relu'),\n",
        "    layers.MaxPooling2D((2, 2)),\n",
        "\n",
        "    layers.Conv2D(filters=64, kernel_size=(3, 3), activation='relu'),\n",
        "    layers.MaxPooling2D((2, 2)),\n",
        "\n",
        "    layers.Flatten(),\n",
        "    layers.Dense(64, activation='relu'),\n",
        "    layers.Dense(64, activation='relu'),\n",
        "    layers.Dense(64, activation='relu'),\n",
        "    layers.Dropout(rate=0.21),\n",
        "    layers.Dense(10, activation='softmax')\n",
        "])"
      ]
    },
    {
      "cell_type": "code",
      "execution_count": 10,
      "metadata": {
        "id": "qs4ccPKyOFqb"
      },
      "outputs": [],
      "source": [
        "optimizer = tf.keras.optimizers.Adam(learning_rate=0.001)\n",
        "\n",
        "cnn.compile(optimizer=optimizer,\n",
        "            loss='sparse_categorical_crossentropy',\n",
        "            metrics = ['accuracy'])"
      ]
    },
    {
      "cell_type": "code",
      "execution_count": 11,
      "metadata": {
        "colab": {
          "base_uri": "https://localhost:8080/"
        },
        "id": "6EkOGykfPXa7",
        "outputId": "0466f861-0d5e-418e-af98-dcd2b12045ca"
      },
      "outputs": [
        {
          "output_type": "stream",
          "name": "stdout",
          "text": [
            "Epoch 1/20\n",
            "1563/1563 [==============================] - 50s 31ms/step - loss: 1.7886 - accuracy: 0.3492\n",
            "Epoch 2/20\n",
            "1563/1563 [==============================] - 46s 30ms/step - loss: 1.4314 - accuracy: 0.4889\n",
            "Epoch 3/20\n",
            "1563/1563 [==============================] - 48s 31ms/step - loss: 1.2823 - accuracy: 0.5486\n",
            "Epoch 4/20\n",
            "1563/1563 [==============================] - 46s 30ms/step - loss: 1.1809 - accuracy: 0.5864\n",
            "Epoch 5/20\n",
            "1563/1563 [==============================] - 47s 30ms/step - loss: 1.1131 - accuracy: 0.6142\n",
            "Epoch 6/20\n",
            "1563/1563 [==============================] - 47s 30ms/step - loss: 1.0586 - accuracy: 0.6345\n",
            "Epoch 7/20\n",
            "1563/1563 [==============================] - 47s 30ms/step - loss: 1.0039 - accuracy: 0.6531\n",
            "Epoch 8/20\n",
            "1563/1563 [==============================] - 50s 32ms/step - loss: 0.9735 - accuracy: 0.6656\n",
            "Epoch 9/20\n",
            "1563/1563 [==============================] - 47s 30ms/step - loss: 0.9395 - accuracy: 0.6766\n",
            "Epoch 10/20\n",
            "1563/1563 [==============================] - 48s 31ms/step - loss: 0.9047 - accuracy: 0.6908\n",
            "Epoch 11/20\n",
            "1563/1563 [==============================] - 46s 30ms/step - loss: 0.8732 - accuracy: 0.7012\n",
            "Epoch 12/20\n",
            "1563/1563 [==============================] - 49s 31ms/step - loss: 0.8558 - accuracy: 0.7074\n",
            "Epoch 13/20\n",
            "1563/1563 [==============================] - 47s 30ms/step - loss: 0.8314 - accuracy: 0.7178\n",
            "Epoch 14/20\n",
            "1563/1563 [==============================] - 47s 30ms/step - loss: 0.8099 - accuracy: 0.7239\n",
            "Epoch 15/20\n",
            "1563/1563 [==============================] - 47s 30ms/step - loss: 0.7893 - accuracy: 0.7316\n",
            "Epoch 16/20\n",
            "1563/1563 [==============================] - 47s 30ms/step - loss: 0.7695 - accuracy: 0.7378\n",
            "Epoch 17/20\n",
            "1563/1563 [==============================] - 47s 30ms/step - loss: 0.7515 - accuracy: 0.7428\n",
            "Epoch 18/20\n",
            "1563/1563 [==============================] - 47s 30ms/step - loss: 0.7336 - accuracy: 0.7500\n",
            "Epoch 19/20\n",
            "1563/1563 [==============================] - 48s 31ms/step - loss: 0.7238 - accuracy: 0.7519\n",
            "Epoch 20/20\n",
            "1563/1563 [==============================] - 47s 30ms/step - loss: 0.7034 - accuracy: 0.7608\n"
          ]
        },
        {
          "output_type": "execute_result",
          "data": {
            "text/plain": [
              "<keras.src.callbacks.History at 0x7c8d58e1fe20>"
            ]
          },
          "metadata": {},
          "execution_count": 11
        }
      ],
      "source": [
        "cnn.fit(train_images, train_labels, epochs=20)"
      ]
    },
    {
      "cell_type": "code",
      "execution_count": 12,
      "metadata": {
        "colab": {
          "base_uri": "https://localhost:8080/"
        },
        "id": "nf8gf3SVUu34",
        "outputId": "541dd5bb-ceb7-4538-88af-d4576664e13c"
      },
      "outputs": [
        {
          "output_type": "stream",
          "name": "stdout",
          "text": [
            "313/313 [==============================] - 3s 9ms/step - loss: 1.0367 - accuracy: 0.6732\n"
          ]
        },
        {
          "output_type": "execute_result",
          "data": {
            "text/plain": [
              "[1.0367175340652466, 0.6732000112533569]"
            ]
          },
          "metadata": {},
          "execution_count": 12
        }
      ],
      "source": [
        "cnn.evaluate(test_images, test_labels)"
      ]
    }
  ],
  "metadata": {
    "colab": {
      "provenance": []
    },
    "kernelspec": {
      "display_name": "Python 3",
      "name": "python3"
    },
    "language_info": {
      "name": "python"
    }
  },
  "nbformat": 4,
  "nbformat_minor": 0
}