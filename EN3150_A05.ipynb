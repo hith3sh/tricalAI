{
  "nbformat": 4,
  "nbformat_minor": 0,
  "metadata": {
    "colab": {
      "provenance": []
    },
    "kernelspec": {
      "name": "python3",
      "display_name": "Python 3"
    },
    "language_info": {
      "name": "python"
    }
  },
  "cells": [
    {
      "cell_type": "code",
      "execution_count": 1,
      "metadata": {
        "id": "y2IuTS8RH2ro"
      },
      "outputs": [],
      "source": [
        "import tensorflow as tf\n",
        "from tensorflow.keras import datasets, layers, models\n",
        "import matplotlib.pyplot as plt\n",
        "import numpy as np"
      ]
    },
    {
      "cell_type": "code",
      "source": [
        "from keras.datasets import cifar10\n",
        "#Load the CIFAR -10 dataset\n",
        "(train_images, train_labels),(test_images, test_labels) = cifar10.load_data()\n"
      ],
      "metadata": {
        "id": "-QFzJIFIJCk9",
        "colab": {
          "base_uri": "https://localhost:8080/"
        },
        "outputId": "3e7c1cf0-da55-472a-ef16-16790ac37c1f"
      },
      "execution_count": 2,
      "outputs": [
        {
          "output_type": "stream",
          "name": "stdout",
          "text": [
            "Downloading data from https://www.cs.toronto.edu/~kriz/cifar-10-python.tar.gz\n",
            "170498071/170498071 [==============================] - 3s 0us/step\n"
          ]
        }
      ]
    },
    {
      "cell_type": "code",
      "source": [
        "train_images.shape"
      ],
      "metadata": {
        "colab": {
          "base_uri": "https://localhost:8080/"
        },
        "id": "uzizb-ZkJwGb",
        "outputId": "79522e15-8373-4888-f841-b0bd41c91ba5"
      },
      "execution_count": null,
      "outputs": [
        {
          "output_type": "execute_result",
          "data": {
            "text/plain": [
              "(50000, 32, 32, 3)"
            ]
          },
          "metadata": {},
          "execution_count": 6
        }
      ]
    },
    {
      "cell_type": "code",
      "source": [
        "#creating a CNN\n",
        "cnn = models.Sequential([\n",
        "    layers.Conv2D(filters=32, kernel_size=(3, 3), activation='relu', input_shape=(32, 32, 3)),\n",
        "    layers.MaxPooling2D((2, 2)),\n",
        "\n",
        "    layers.Conv2D(filters=32, kernel_size=(3, 3), activation='relu'),\n",
        "    layers.MaxPooling2D((2, 2)),\n",
        "\n",
        "    layers.Conv2D(filters=64, kernel_size=(3, 3), activation='relu'),\n",
        "    layers.MaxPooling2D((2, 2)),\n",
        "\n",
        "    layers.Flatten(),\n",
        "    layers.Dense(64, activation='relu'),\n",
        "    layers.Dense(64, activation='relu'),\n",
        "    layers.Dense(64, activation='relu'),\n",
        "    layers.Dropout(rate=0.6),\n",
        "    layers.Dense(10, activation='softmax')\n",
        "])"
      ],
      "metadata": {
        "id": "81wdUxxZKsgt"
      },
      "execution_count": 3,
      "outputs": []
    },
    {
      "cell_type": "code",
      "source": [
        "optimizer = tf.keras.optimizers.Adam(learning_rate=0.001)\n",
        "\n",
        "cnn.compile(optimizer=optimizer,\n",
        "            loss='sparse_categorical_crossentropy',\n",
        "            metrics = ['accuracy'])"
      ],
      "metadata": {
        "id": "qs4ccPKyOFqb"
      },
      "execution_count": null,
      "outputs": []
    },
    {
      "cell_type": "code",
      "source": [
        "cnn.fit(train_images, train_labels, epochs=20)"
      ],
      "metadata": {
        "colab": {
          "base_uri": "https://localhost:8080/"
        },
        "id": "6EkOGykfPXa7",
        "outputId": "934236fe-e7b4-430b-f441-3d74e4e59876"
      },
      "execution_count": null,
      "outputs": [
        {
          "output_type": "stream",
          "name": "stdout",
          "text": [
            "Epoch 1/20\n",
            "1563/1563 [==============================] - 57s 35ms/step - loss: 2.1212 - accuracy: 0.2133\n",
            "Epoch 2/20\n",
            "1563/1563 [==============================] - 55s 35ms/step - loss: 1.7575 - accuracy: 0.3469\n",
            "Epoch 3/20\n",
            "1563/1563 [==============================] - 55s 35ms/step - loss: 1.6238 - accuracy: 0.4102\n",
            "Epoch 4/20\n",
            "1563/1563 [==============================] - 57s 36ms/step - loss: 1.5220 - accuracy: 0.4578\n",
            "Epoch 5/20\n",
            "1563/1563 [==============================] - 55s 35ms/step - loss: 1.4556 - accuracy: 0.4895\n",
            "Epoch 6/20\n",
            "1563/1563 [==============================] - 55s 35ms/step - loss: 1.3743 - accuracy: 0.5213\n",
            "Epoch 7/20\n",
            "1563/1563 [==============================] - 55s 35ms/step - loss: 1.3326 - accuracy: 0.5394\n",
            "Epoch 8/20\n",
            "1563/1563 [==============================] - 55s 35ms/step - loss: 1.2878 - accuracy: 0.5577\n",
            "Epoch 9/20\n",
            "1563/1563 [==============================] - 55s 35ms/step - loss: 1.2427 - accuracy: 0.5751\n",
            "Epoch 10/20\n",
            "1563/1563 [==============================] - 55s 35ms/step - loss: 1.2148 - accuracy: 0.5888\n",
            "Epoch 11/20\n",
            "1563/1563 [==============================] - 55s 35ms/step - loss: 1.1778 - accuracy: 0.6021\n",
            "Epoch 12/20\n",
            "1563/1563 [==============================] - 55s 35ms/step - loss: 1.1563 - accuracy: 0.6116\n",
            "Epoch 13/20\n",
            "1563/1563 [==============================] - 55s 35ms/step - loss: 1.1320 - accuracy: 0.6207\n",
            "Epoch 14/20\n",
            "1563/1563 [==============================] - 54s 35ms/step - loss: 1.1103 - accuracy: 0.6278\n",
            "Epoch 15/20\n",
            "1563/1563 [==============================] - 55s 35ms/step - loss: 1.0931 - accuracy: 0.6324\n",
            "Epoch 16/20\n",
            "1563/1563 [==============================] - 55s 35ms/step - loss: 1.0721 - accuracy: 0.6422\n",
            "Epoch 17/20\n",
            "1563/1563 [==============================] - 55s 35ms/step - loss: 1.0554 - accuracy: 0.6478\n",
            "Epoch 18/20\n",
            "1563/1563 [==============================] - 55s 35ms/step - loss: 1.0313 - accuracy: 0.6542\n",
            "Epoch 19/20\n",
            "1563/1563 [==============================] - 55s 35ms/step - loss: 1.0172 - accuracy: 0.6631\n",
            "Epoch 20/20\n",
            "1563/1563 [==============================] - 55s 35ms/step - loss: 1.0022 - accuracy: 0.6676\n"
          ]
        },
        {
          "output_type": "execute_result",
          "data": {
            "text/plain": [
              "<keras.src.callbacks.History at 0x7cf30e1cebc0>"
            ]
          },
          "metadata": {},
          "execution_count": 42
        }
      ]
    },
    {
      "cell_type": "code",
      "source": [
        "cnn.evaluate(test_images, test_labels)"
      ],
      "metadata": {
        "colab": {
          "base_uri": "https://localhost:8080/"
        },
        "id": "nf8gf3SVUu34",
        "outputId": "a5ff77e9-42cc-40aa-cc39-dc30c138c442"
      },
      "execution_count": null,
      "outputs": [
        {
          "output_type": "stream",
          "name": "stdout",
          "text": [
            "313/313 [==============================] - 4s 11ms/step - loss: 1.1822 - accuracy: 0.6169\n"
          ]
        },
        {
          "output_type": "execute_result",
          "data": {
            "text/plain": [
              "[1.1821658611297607, 0.6169000267982483]"
            ]
          },
          "metadata": {},
          "execution_count": 43
        }
      ]
    }
  ]
}