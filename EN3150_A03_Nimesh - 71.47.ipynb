{
  "cells": [
    {
      "cell_type": "code",
      "execution_count": 5,
      "metadata": {
        "id": "y2IuTS8RH2ro"
      },
      "outputs": [],
      "source": [
        "import tensorflow as tf\n",
        "from keras import datasets, layers, models\n",
        "import matplotlib.pyplot as plt\n",
        "import numpy as np\n",
        "from sklearn.preprocessing import MinMaxScaler"
      ]
    },
    {
      "cell_type": "code",
      "execution_count": 6,
      "metadata": {
        "id": "-QFzJIFIJCk9"
      },
      "outputs": [],
      "source": [
        "from keras.datasets import cifar10\n",
        "#Load the CIFAR -10 dataset\n",
        "(train_images, train_labels),(test_images, test_labels) = cifar10.load_data()\n"
      ]
    },
    {
      "cell_type": "code",
      "execution_count": 8,
      "metadata": {
        "colab": {
          "base_uri": "https://localhost:8080/"
        },
        "id": "uzizb-ZkJwGb",
        "outputId": "a92da09e-31d7-4292-b4fb-0e56efa893cf"
      },
      "outputs": [
        {
          "output_type": "execute_result",
          "data": {
            "text/plain": [
              "(50000, 32, 32, 3)"
            ]
          },
          "metadata": {},
          "execution_count": 8
        }
      ],
      "source": [
        "train_images.shape"
      ]
    },
    {
      "cell_type": "code",
      "execution_count": 21,
      "metadata": {
        "id": "81wdUxxZKsgt"
      },
      "outputs": [],
      "source": [
        "#creating a CNN\n",
        "cnn = models.Sequential([\n",
        "    layers.Conv2D(filters=64, kernel_size=(3, 3), activation='relu', input_shape=(32, 32, 3)),\n",
        "    layers.MaxPooling2D((2, 2)),\n",
        "\n",
        "    layers.Conv2D(filters=128, kernel_size=(3, 3), activation='relu'),\n",
        "    layers.MaxPooling2D((2, 2)),\n",
        "\n",
        "    layers.Conv2D(filters=256, kernel_size=(3, 3), activation='relu'),\n",
        "    layers.MaxPooling2D((2, 2)),\n",
        "\n",
        "    layers.Flatten(),\n",
        "    layers.Dense(256, activation='relu'),\n",
        "    layers.Dense(128, activation='relu'),\n",
        "    layers.Dense(64, activation='relu'),\n",
        "    layers.Dropout(rate=0.2),\n",
        "    layers.Dense(10, activation='softmax')\n",
        "])"
      ]
    },
    {
      "cell_type": "code",
      "execution_count": 22,
      "metadata": {
        "id": "qs4ccPKyOFqb"
      },
      "outputs": [],
      "source": [
        "optimizer = tf.keras.optimizers.Adam(learning_rate=0.001)\n",
        "\n",
        "cnn.compile(optimizer=optimizer,\n",
        "            loss='sparse_categorical_crossentropy',\n",
        "            metrics = ['accuracy'])"
      ]
    },
    {
      "cell_type": "code",
      "execution_count": 23,
      "metadata": {
        "colab": {
          "base_uri": "https://localhost:8080/"
        },
        "id": "6EkOGykfPXa7",
        "outputId": "ca3b71df-0db1-4938-f3d5-ca96b741deed"
      },
      "outputs": [
        {
          "output_type": "stream",
          "name": "stdout",
          "text": [
            "Epoch 1/20\n",
            "1563/1563 [==============================] - 177s 112ms/step - loss: 1.6641 - accuracy: 0.4030\n",
            "Epoch 2/20\n",
            "1563/1563 [==============================] - 171s 109ms/step - loss: 1.2797 - accuracy: 0.5555\n",
            "Epoch 3/20\n",
            "1563/1563 [==============================] - 171s 109ms/step - loss: 1.1048 - accuracy: 0.6214\n",
            "Epoch 4/20\n",
            "1563/1563 [==============================] - 172s 110ms/step - loss: 0.9868 - accuracy: 0.6668\n",
            "Epoch 5/20\n",
            "1563/1563 [==============================] - 171s 109ms/step - loss: 0.8955 - accuracy: 0.6984\n",
            "Epoch 6/20\n",
            "1563/1563 [==============================] - 169s 108ms/step - loss: 0.8247 - accuracy: 0.7224\n",
            "Epoch 7/20\n",
            "1563/1563 [==============================] - 171s 109ms/step - loss: 0.7463 - accuracy: 0.7502\n",
            "Epoch 8/20\n",
            "1563/1563 [==============================] - 171s 109ms/step - loss: 0.6951 - accuracy: 0.7670\n",
            "Epoch 9/20\n",
            "1563/1563 [==============================] - 171s 109ms/step - loss: 0.6499 - accuracy: 0.7816\n",
            "Epoch 10/20\n",
            "1563/1563 [==============================] - 170s 109ms/step - loss: 0.5968 - accuracy: 0.8013\n",
            "Epoch 11/20\n",
            "1563/1563 [==============================] - 173s 111ms/step - loss: 0.5527 - accuracy: 0.8160\n",
            "Epoch 12/20\n",
            "1563/1563 [==============================] - 170s 109ms/step - loss: 0.5227 - accuracy: 0.8282\n",
            "Epoch 13/20\n",
            "1563/1563 [==============================] - 172s 110ms/step - loss: 0.4745 - accuracy: 0.8434\n",
            "Epoch 14/20\n",
            "1563/1563 [==============================] - 172s 110ms/step - loss: 0.4528 - accuracy: 0.8513\n",
            "Epoch 15/20\n",
            "1563/1563 [==============================] - 170s 109ms/step - loss: 0.4171 - accuracy: 0.8663\n",
            "Epoch 16/20\n",
            "1563/1563 [==============================] - 174s 111ms/step - loss: 0.3933 - accuracy: 0.8718\n",
            "Epoch 17/20\n",
            "1563/1563 [==============================] - 173s 110ms/step - loss: 0.3690 - accuracy: 0.8806\n",
            "Epoch 18/20\n",
            "1563/1563 [==============================] - 171s 109ms/step - loss: 0.3570 - accuracy: 0.8868\n",
            "Epoch 19/20\n",
            "1563/1563 [==============================] - 173s 111ms/step - loss: 0.3322 - accuracy: 0.8950\n",
            "Epoch 20/20\n",
            "1563/1563 [==============================] - 170s 109ms/step - loss: 0.3125 - accuracy: 0.9037\n"
          ]
        },
        {
          "output_type": "execute_result",
          "data": {
            "text/plain": [
              "<keras.src.callbacks.History at 0x7c8daad3db10>"
            ]
          },
          "metadata": {},
          "execution_count": 23
        }
      ],
      "source": [
        "cnn.fit(train_images, train_labels, epochs=20)"
      ]
    },
    {
      "cell_type": "code",
      "execution_count": 24,
      "metadata": {
        "colab": {
          "base_uri": "https://localhost:8080/"
        },
        "id": "nf8gf3SVUu34",
        "outputId": "38af9c85-67a3-4500-804b-e2ec0ed80cd6"
      },
      "outputs": [
        {
          "output_type": "stream",
          "name": "stdout",
          "text": [
            "313/313 [==============================] - 9s 28ms/step - loss: 1.3498 - accuracy: 0.7147\n"
          ]
        },
        {
          "output_type": "execute_result",
          "data": {
            "text/plain": [
              "[1.3498165607452393, 0.7146999835968018]"
            ]
          },
          "metadata": {},
          "execution_count": 24
        }
      ],
      "source": [
        "cnn.evaluate(test_images, test_labels)"
      ]
    }
  ],
  "metadata": {
    "colab": {
      "provenance": []
    },
    "kernelspec": {
      "display_name": "Python 3",
      "name": "python3"
    },
    "language_info": {
      "name": "python"
    }
  },
  "nbformat": 4,
  "nbformat_minor": 0
}